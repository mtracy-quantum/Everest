{
 "cells": [
  {
   "cell_type": "code",
   "execution_count": 1,
   "id": "aa13394a",
   "metadata": {},
   "outputs": [],
   "source": [
    "def o2_pressure_to_altitude(po2, base_altitude=29000, base_pressure=335, pressure_per_500ft=6.67, o2_fraction=0.2095):\n",
    "    \"\"\"\n",
    "    Converts partial pressure of O₂ to altitude.\n",
    "\n",
    "    Parameters:\n",
    "        po2 (float): Partial pressure of O₂ in hPa.\n",
    "        base_altitude (float): Altitude at which base pressure is measured (default 29000 feet).\n",
    "        base_pressure (float): Atmospheric pressure at base altitude in hPa (default 335 hPa).\n",
    "        pressure_per_500ft (float): Pressure increase per 500 feet descent (default 6.67 hPa).\n",
    "        o2_fraction (float): Fraction of O₂ in the atmosphere (default 0.2095).\n",
    "\n",
    "    Returns:\n",
    "        float: Corresponding altitude in feet.\n",
    "    \"\"\"\n",
    "    # Total atmospheric pressure from O₂ partial pressure\n",
    "    total_pressure = po2 / o2_fraction\n",
    "\n",
    "    # Calculate altitude difference from base altitude\n",
    "    pressure_diff = total_pressure - base_pressure\n",
    "    altitude_diff = (pressure_diff / pressure_per_500ft) * 500\n",
    "\n",
    "    altitude = base_altitude - altitude_diff\n",
    "    return altitude\n",
    "\n",
    "\n",
    "def calculate_PPO2(altitude_pressure, oxygen_flow_rate, ventilation_rate, expansion_factor, oxygen_concentration=0.2095):\n",
    "    # Step 1: Calculate the expanded oxygen flow\n",
    "    expanded_oxygen_flow = oxygen_flow_rate * expansion_factor\n",
    "    print(f\"Step 1 - Expanded oxygen flow (oxygen_flow_rate * expansion_factor): {expanded_oxygen_flow:.2f} LPM\")\n",
    "    \n",
    "    # Step 2: Adjust the ambient air flow to account for the oxygen\n",
    "    adjusted_ambient_air_flow = ventilation_rate - expanded_oxygen_flow\n",
    "    print(f\"Step 2 - Adjusted ambient air flow (ventilation_rate - expanded_oxygen_flow): {adjusted_ambient_air_flow:.2f} LPM\")\n",
    "    \n",
    "    # Step 3: Calculate the oxygen content from ambient air and supplemental oxygen\n",
    "    oxygen_from_ambient_air = adjusted_ambient_air_flow * oxygen_concentration\n",
    "    oxygen_from_supplemental_oxygen = expanded_oxygen_flow  # Pure oxygen is already adjusted\n",
    "    total_oxygen = oxygen_from_ambient_air + oxygen_from_supplemental_oxygen\n",
    "    print(f\"Step 3 - Oxygen from ambient air: {oxygen_from_ambient_air:.2f} LPM\")\n",
    "    print(f\"Step 3 - Oxygen from supplemental oxygen: {oxygen_from_supplemental_oxygen:.2f} LPM\")\n",
    "    print(f\"Step 3 - Total oxygen in the mix: {total_oxygen:.2f} LPM\")\n",
    "    \n",
    "    # Step 4: Calculate the oxygen fraction\n",
    "    oxygen_fraction = total_oxygen / ventilation_rate\n",
    "    print(f\"Step 4 - Oxygen fraction (total_oxygen / ventilation_rate): {oxygen_fraction:.5f}\")\n",
    "    \n",
    "    # Step 5: Calculate the PPO2 with supplemental oxygen\n",
    "    PPO2 = altitude_pressure * oxygen_fraction\n",
    "    print(f\"Step 5 - PPO2 with supplemental oxygen (altitude_pressure * oxygen_fraction): {PPO2:.2f} hPa\")\n",
    "    \n",
    "    return PPO2\n",
    "\n",
    "\n"
   ]
  },
  {
   "cell_type": "code",
   "execution_count": 18,
   "id": "799b9cbc",
   "metadata": {},
   "outputs": [
    {
     "name": "stdout",
     "output_type": "stream",
     "text": [
      "Step 1 - Expanded oxygen flow (oxygen_flow_rate * expansion_factor): 3.91 LPM\n",
      "Step 2 - Adjusted ambient air flow (ventilation_rate - expanded_oxygen_flow): 46.09 LPM\n",
      "Step 3 - Oxygen from ambient air: 9.66 LPM\n",
      "Step 3 - Oxygen from supplemental oxygen: 3.91 LPM\n",
      "Step 3 - Total oxygen in the mix: 13.57 LPM\n",
      "Step 4 - Oxygen fraction (total_oxygen / ventilation_rate): 0.27136\n",
      "Step 5 - PPO2 with supplemental oxygen (altitude_pressure * oxygen_fraction): 105.38 hPa\n",
      "Step 6 - Convert 105.38 hPa to altitude: 16404\n"
     ]
    }
   ],
   "source": [
    "# Virtual Altutude for moderate climbing -- in region of Camp V\n",
    "altitude_pressure = 335 + 6.67*(8)  # hPa at 25,000 feet\n",
    "oxygen_flow_rate = 1.5  # LPM of pure oxygen\n",
    "ventilation_rate = 50  # LPM total ventilation rate\n",
    "expansion_factor = 1013/altitude_pressure  # Expansion factor for oxygen at high altitude\n",
    "\n",
    "ppo2 = calculate_PPO2(altitude_pressure, oxygen_flow_rate, ventilation_rate, expansion_factor)\n",
    "\n",
    "virtual_alt = o2_pressure_to_altitude(ppo2)\n",
    "print(f\"Step 6 - Convert {ppo2:.2f} hPa to altitude: {virtual_alt:.0f}\")"
   ]
  },
  {
   "cell_type": "code",
   "execution_count": 8,
   "id": "c3681668",
   "metadata": {},
   "outputs": [
    {
     "name": "stdout",
     "output_type": "stream",
     "text": [
      "Step 1 - Expanded oxygen flow (oxygen_flow_rate * expansion_factor): 4.36 LPM\n",
      "Step 2 - Adjusted ambient air flow (ventilation_rate - expanded_oxygen_flow): 45.64 LPM\n",
      "Step 3 - Oxygen from ambient air: 9.56 LPM\n",
      "Step 3 - Oxygen from supplemental oxygen: 4.36 LPM\n",
      "Step 3 - Total oxygen in the mix: 13.92 LPM\n",
      "Step 4 - Oxygen fraction (total_oxygen / ventilation_rate): 0.27847\n",
      "Step 5 - PPO2 with supplemental oxygen (altitude_pressure * oxygen_fraction): 97.00 hPa\n",
      "Step 6 - Convert 97.00 hPa to altitude: 19404\n"
     ]
    }
   ],
   "source": [
    "# Virtual Altutude for moderate climbing -- up to First Step\n",
    "altitude_pressure = 335 + 6.67*(2)  # hPa at 28,000 feet\n",
    "oxygen_flow_rate = 1.5  # LPM of pure oxygen\n",
    "ventilation_rate = 50  # LPM total ventilation rate\n",
    "expansion_factor = 1013/altitude_pressure  # Expansion factor for oxygen at high altitude\n",
    "\n",
    "ppo2 = calculate_PPO2(altitude_pressure, oxygen_flow_rate, ventilation_rate, expansion_factor)\n",
    "\n",
    "virtual_alt = o2_pressure_to_altitude(ppo2)\n",
    "print(f\"Step 6 - Convert {ppo2:.2f} hPa to altitude: {virtual_alt:.0f}\")"
   ]
  },
  {
   "cell_type": "code",
   "execution_count": 11,
   "id": "95352a75",
   "metadata": {},
   "outputs": [
    {
     "name": "stdout",
     "output_type": "stream",
     "text": [
      "Step 1 - Expanded oxygen flow (oxygen_flow_rate * expansion_factor): 4.36 LPM\n",
      "Step 2 - Adjusted ambient air flow (ventilation_rate - expanded_oxygen_flow): 65.64 LPM\n",
      "Step 3 - Oxygen from ambient air: 13.75 LPM\n",
      "Step 3 - Oxygen from supplemental oxygen: 4.36 LPM\n",
      "Step 3 - Total oxygen in the mix: 18.11 LPM\n",
      "Step 4 - Oxygen fraction (total_oxygen / ventilation_rate): 0.25876\n",
      "Step 5 - PPO2 with supplemental oxygen (altitude_pressure * oxygen_fraction): 90.14 hPa\n",
      "Step 6 - Convert 90.14 hPa to altitude: 21860\n"
     ]
    }
   ],
   "source": [
    "# Virtual Altutude for moderate climbing -- up to First Step\n",
    "altitude_pressure = 335 + 6.67*(2)  # hPa at 28,000 feet\n",
    "oxygen_flow_rate = 1.5  # LPM of pure oxygen\n",
    "ventilation_rate = 70  # LPM total ventilation rate\n",
    "expansion_factor = 1013/altitude_pressure  # Expansion factor for oxygen at high altitude\n",
    "\n",
    "ppo2 = calculate_PPO2(altitude_pressure, oxygen_flow_rate, ventilation_rate, expansion_factor)\n",
    "\n",
    "virtual_alt = o2_pressure_to_altitude(ppo2)\n",
    "print(f\"Step 6 - Convert {ppo2:.2f} hPa to altitude: {virtual_alt:.0f}\")"
   ]
  },
  {
   "cell_type": "code",
   "execution_count": 32,
   "id": "a8234ffa",
   "metadata": {},
   "outputs": [
    {
     "name": "stdout",
     "output_type": "stream",
     "text": [
      "Step 1 - Expanded oxygen flow (oxygen_flow_rate * expansion_factor): 4.36 LPM\n",
      "Step 2 - Adjusted ambient air flow (ventilation_rate - expanded_oxygen_flow): 95.64 LPM\n",
      "Step 3 - Oxygen from ambient air: 20.04 LPM\n",
      "Step 3 - Oxygen from supplemental oxygen: 4.36 LPM\n",
      "Step 3 - Total oxygen in the mix: 24.40 LPM\n",
      "Step 4 - Oxygen fraction (total_oxygen / ventilation_rate): 0.24398\n",
      "Step 5 - PPO2 with supplemental oxygen (altitude_pressure * oxygen_fraction): 84.99 hPa\n",
      "Step 6 - Convert 84.99 hPa to altitude: 23702\n"
     ]
    }
   ],
   "source": [
    "\n",
    "altitude_pressure = 335 + 6.67*(2)  # hPa at 28,000 feet\n",
    "oxygen_flow_rate = 1.5  # LPM of pure oxygen\n",
    "ventilation_rate = 100  # LPM total ventilation rate\n",
    "expansion_factor = 1013/altitude_pressure  # Expansion factor for oxygen at high altitude\n",
    "\n",
    "ppo2 = calculate_PPO2(altitude_pressure, oxygen_flow_rate, ventilation_rate, expansion_factor)\n",
    "\n",
    "virtual_alt = o2_pressure_to_altitude(ppo2)\n",
    "print(f\"Step 6 - Convert {ppo2:.2f} hPa to altitude: {virtual_alt:.0f}\")"
   ]
  },
  {
   "cell_type": "code",
   "execution_count": 33,
   "id": "f7820e96",
   "metadata": {},
   "outputs": [
    {
     "name": "stdout",
     "output_type": "stream",
     "text": [
      "Step 1 - Expanded oxygen flow (oxygen_flow_rate * expansion_factor): 4.36 LPM\n",
      "Step 2 - Adjusted ambient air flow (ventilation_rate - expanded_oxygen_flow): 145.64 LPM\n",
      "Step 3 - Oxygen from ambient air: 30.51 LPM\n",
      "Step 3 - Oxygen from supplemental oxygen: 4.36 LPM\n",
      "Step 3 - Total oxygen in the mix: 34.87 LPM\n",
      "Step 4 - Oxygen fraction (total_oxygen / ventilation_rate): 0.23249\n",
      "Step 5 - PPO2 with supplemental oxygen (altitude_pressure * oxygen_fraction): 80.98 hPa\n",
      "Step 6 - Convert 80.98 hPa to altitude: 25135\n"
     ]
    }
   ],
   "source": [
    "\n",
    "altitude_pressure = 335 + 6.67*(2)  # hPa at 28,000 feet\n",
    "oxygen_flow_rate = 1.5  # LPM of pure oxygen\n",
    "ventilation_rate = 150  # LPM total ventilation rate\n",
    "expansion_factor = 1013/altitude_pressure  # Expansion factor for oxygen at high altitude\n",
    "\n",
    "ppo2 = calculate_PPO2(altitude_pressure, oxygen_flow_rate, ventilation_rate, expansion_factor)\n",
    "\n",
    "virtual_alt = o2_pressure_to_altitude(ppo2)\n",
    "print(f\"Step 6 - Convert {ppo2:.2f} hPa to altitude: {virtual_alt:.0f}\")"
   ]
  },
  {
   "cell_type": "code",
   "execution_count": null,
   "id": "d685fb1f",
   "metadata": {},
   "outputs": [],
   "source": []
  },
  {
   "cell_type": "code",
   "execution_count": 16,
   "id": "e3c906d5",
   "metadata": {},
   "outputs": [
    {
     "name": "stdout",
     "output_type": "stream",
     "text": [
      "Step 1 - Expanded oxygen flow (oxygen_flow_rate * expansion_factor): 5.82 LPM\n",
      "Step 2 - Adjusted ambient air flow (ventilation_rate - expanded_oxygen_flow): 44.18 LPM\n",
      "Step 3 - Oxygen from ambient air: 9.26 LPM\n",
      "Step 3 - Oxygen from supplemental oxygen: 5.82 LPM\n",
      "Step 3 - Total oxygen in the mix: 15.07 LPM\n",
      "Step 4 - Oxygen fraction (total_oxygen / ventilation_rate): 0.30145\n",
      "Step 5 - PPO2 with supplemental oxygen (altitude_pressure * oxygen_fraction): 105.01 hPa\n",
      "Step 6 - Convert 105.01 hPa to altitude: 16539\n"
     ]
    }
   ],
   "source": [
    "# Virtual Altutude for moderate climbing -- up to First Step\n",
    "altitude_pressure = 335 + 6.67*(2)  # hPa at 28,000 feet\n",
    "oxygen_flow_rate = 2  # LPM of pure oxygen\n",
    "ventilation_rate = 50  # LPM total ventilation rate\n",
    "expansion_factor = 1013/altitude_pressure  # Expansion factor for oxygen at high altitude\n",
    "\n",
    "ppo2 = calculate_PPO2(altitude_pressure, oxygen_flow_rate, ventilation_rate, expansion_factor)\n",
    "\n",
    "virtual_alt = o2_pressure_to_altitude(ppo2)\n",
    "print(f\"Step 6 - Convert {ppo2:.2f} hPa to altitude: {virtual_alt:.0f}\")"
   ]
  },
  {
   "cell_type": "code",
   "execution_count": 17,
   "id": "c133b5a5",
   "metadata": {},
   "outputs": [
    {
     "name": "stdout",
     "output_type": "stream",
     "text": [
      "Step 1 - Expanded oxygen flow (oxygen_flow_rate * expansion_factor): 5.82 LPM\n",
      "Step 2 - Adjusted ambient air flow (ventilation_rate - expanded_oxygen_flow): 64.18 LPM\n",
      "Step 3 - Oxygen from ambient air: 13.45 LPM\n",
      "Step 3 - Oxygen from supplemental oxygen: 5.82 LPM\n",
      "Step 3 - Total oxygen in the mix: 19.26 LPM\n",
      "Step 4 - Oxygen fraction (total_oxygen / ventilation_rate): 0.27518\n",
      "Step 5 - PPO2 with supplemental oxygen (altitude_pressure * oxygen_fraction): 95.86 hPa\n",
      "Step 6 - Convert 95.86 hPa to altitude: 19813\n"
     ]
    }
   ],
   "source": [
    "# Virtual Altutude for heavy climbing -- up to First Step\n",
    "altitude_pressure = 335 + 6.67*(2)  # hPa at 28,000 feet\n",
    "oxygen_flow_rate = 2  # LPM of pure oxygen\n",
    "ventilation_rate = 70  # LPM total ventilation rate\n",
    "expansion_factor = 1013/altitude_pressure  # Expansion factor for oxygen at high altitude\n",
    "\n",
    "ppo2 = calculate_PPO2(altitude_pressure, oxygen_flow_rate, ventilation_rate, expansion_factor)\n",
    "\n",
    "virtual_alt = o2_pressure_to_altitude(ppo2)\n",
    "print(f\"Step 6 - Convert {ppo2:.2f} hPa to altitude: {virtual_alt:.0f}\")"
   ]
  },
  {
   "cell_type": "code",
   "execution_count": null,
   "id": "15c3ae83",
   "metadata": {},
   "outputs": [],
   "source": []
  },
  {
   "cell_type": "code",
   "execution_count": 29,
   "id": "1d916437",
   "metadata": {},
   "outputs": [
    {
     "name": "stdout",
     "output_type": "stream",
     "text": [
      "Step 1 - Expanded oxygen flow (oxygen_flow_rate * expansion_factor): 6.40 LPM\n",
      "Step 2 - Adjusted ambient air flow (ventilation_rate - expanded_oxygen_flow): 43.60 LPM\n",
      "Step 3 - Oxygen from ambient air: 9.13 LPM\n",
      "Step 3 - Oxygen from supplemental oxygen: 6.40 LPM\n",
      "Step 3 - Total oxygen in the mix: 15.53 LPM\n",
      "Step 4 - Oxygen fraction (total_oxygen / ventilation_rate): 0.31065\n",
      "Step 5 - PPO2 with supplemental oxygen (altitude_pressure * oxygen_fraction): 108.21 hPa\n",
      "Step 6 - Convert 108.21 hPa to altitude: 15393\n"
     ]
    }
   ],
   "source": [
    "\n",
    "altitude_pressure = 335 + 6.67*(2)  # hPa at 28,000 feet\n",
    "oxygen_flow_rate = 2.2  # LPM of pure oxygen\n",
    "ventilation_rate = 50  # LPM total ventilation rate\n",
    "expansion_factor = 1013/altitude_pressure  # Expansion factor for oxygen at high altitude\n",
    "\n",
    "ppo2 = calculate_PPO2(altitude_pressure, oxygen_flow_rate, ventilation_rate, expansion_factor)\n",
    "\n",
    "virtual_alt = o2_pressure_to_altitude(ppo2)\n",
    "print(f\"Step 6 - Convert {ppo2:.2f} hPa to altitude: {virtual_alt:.0f}\")"
   ]
  },
  {
   "cell_type": "code",
   "execution_count": 30,
   "id": "3b27a13e",
   "metadata": {},
   "outputs": [
    {
     "name": "stdout",
     "output_type": "stream",
     "text": [
      "Step 1 - Expanded oxygen flow (oxygen_flow_rate * expansion_factor): 6.40 LPM\n",
      "Step 2 - Adjusted ambient air flow (ventilation_rate - expanded_oxygen_flow): 63.60 LPM\n",
      "Step 3 - Oxygen from ambient air: 13.32 LPM\n",
      "Step 3 - Oxygen from supplemental oxygen: 6.40 LPM\n",
      "Step 3 - Total oxygen in the mix: 19.72 LPM\n",
      "Step 4 - Oxygen fraction (total_oxygen / ventilation_rate): 0.28175\n",
      "Step 5 - PPO2 with supplemental oxygen (altitude_pressure * oxygen_fraction): 98.14 hPa\n",
      "Step 6 - Convert 98.14 hPa to altitude: 18995\n"
     ]
    }
   ],
   "source": [
    "\n",
    "altitude_pressure = 335 + 6.67*(2)  # hPa at 28,000 feet\n",
    "oxygen_flow_rate = 2.2  # LPM of pure oxygen\n",
    "ventilation_rate = 70  # LPM total ventilation rate\n",
    "expansion_factor = 1013/altitude_pressure  # Expansion factor for oxygen at high altitude\n",
    "\n",
    "ppo2 = calculate_PPO2(altitude_pressure, oxygen_flow_rate, ventilation_rate, expansion_factor)\n",
    "\n",
    "virtual_alt = o2_pressure_to_altitude(ppo2)\n",
    "print(f\"Step 6 - Convert {ppo2:.2f} hPa to altitude: {virtual_alt:.0f}\")"
   ]
  },
  {
   "cell_type": "code",
   "execution_count": null,
   "id": "9c50ca59",
   "metadata": {},
   "outputs": [],
   "source": []
  },
  {
   "cell_type": "code",
   "execution_count": null,
   "id": "4ae70972",
   "metadata": {},
   "outputs": [],
   "source": []
  },
  {
   "cell_type": "code",
   "execution_count": null,
   "id": "9fc4fbe4",
   "metadata": {},
   "outputs": [],
   "source": []
  },
  {
   "cell_type": "code",
   "execution_count": null,
   "id": "90a476ba",
   "metadata": {},
   "outputs": [],
   "source": []
  },
  {
   "cell_type": "code",
   "execution_count": 10,
   "id": "581508cd",
   "metadata": {},
   "outputs": [
    {
     "name": "stdout",
     "output_type": "stream",
     "text": [
      "Step 1 - Expanded oxygen flow (oxygen_flow_rate * expansion_factor): 8.72 LPM\n",
      "Step 2 - Adjusted ambient air flow (ventilation_rate - expanded_oxygen_flow): 41.28 LPM\n",
      "Step 3 - Oxygen from ambient air: 8.65 LPM\n",
      "Step 3 - Oxygen from supplemental oxygen: 8.72 LPM\n",
      "Step 3 - Total oxygen in the mix: 17.37 LPM\n",
      "Step 4 - Oxygen fraction (total_oxygen / ventilation_rate): 0.34743\n",
      "Step 5 - PPO2 with supplemental oxygen (altitude_pressure * oxygen_fraction): 121.02 hPa\n",
      "Step 6 - Convert 121.02 hPa to altitude: 10808\n"
     ]
    }
   ],
   "source": [
    "\n",
    "altitude_pressure = 335 + 6.67*(2)  # hPa at 28,000 feet\n",
    "oxygen_flow_rate = 3  # LPM of pure oxygen\n",
    "ventilation_rate = 50  # LPM total ventilation rate\n",
    "expansion_factor = 1013/altitude_pressure  # Expansion factor for oxygen at high altitude\n",
    "\n",
    "ppo2 = calculate_PPO2(altitude_pressure, oxygen_flow_rate, ventilation_rate, expansion_factor)\n",
    "\n",
    "virtual_alt = o2_pressure_to_altitude(ppo2)\n",
    "print(f\"Step 6 - Convert {ppo2:.2f} hPa to altitude: {virtual_alt:.0f}\")"
   ]
  },
  {
   "cell_type": "code",
   "execution_count": 13,
   "id": "ddc56f1c",
   "metadata": {},
   "outputs": [
    {
     "name": "stdout",
     "output_type": "stream",
     "text": [
      "Step 1 - Expanded oxygen flow (oxygen_flow_rate * expansion_factor): 8.72 LPM\n",
      "Step 2 - Adjusted ambient air flow (ventilation_rate - expanded_oxygen_flow): 61.28 LPM\n",
      "Step 3 - Oxygen from ambient air: 12.84 LPM\n",
      "Step 3 - Oxygen from supplemental oxygen: 8.72 LPM\n",
      "Step 3 - Total oxygen in the mix: 21.56 LPM\n",
      "Step 4 - Oxygen fraction (total_oxygen / ventilation_rate): 0.30802\n",
      "Step 5 - PPO2 with supplemental oxygen (altitude_pressure * oxygen_fraction): 107.30 hPa\n",
      "Step 6 - Convert 107.30 hPa to altitude: 15720\n"
     ]
    }
   ],
   "source": [
    "\n",
    "altitude_pressure = 335 + 6.67*(2)  # hPa at 28,000 feet\n",
    "oxygen_flow_rate = 3  # LPM of pure oxygen\n",
    "ventilation_rate = 70  # LPM total ventilation rate\n",
    "expansion_factor = 1013/altitude_pressure  # Expansion factor for oxygen at high altitude\n",
    "\n",
    "ppo2 = calculate_PPO2(altitude_pressure, oxygen_flow_rate, ventilation_rate, expansion_factor)\n",
    "\n",
    "virtual_alt = o2_pressure_to_altitude(ppo2)\n",
    "print(f\"Step 6 - Convert {ppo2:.2f} hPa to altitude: {virtual_alt:.0f}\")"
   ]
  },
  {
   "cell_type": "code",
   "execution_count": 34,
   "id": "83b2eca6",
   "metadata": {},
   "outputs": [
    {
     "name": "stdout",
     "output_type": "stream",
     "text": [
      "Step 1 - Expanded oxygen flow (oxygen_flow_rate * expansion_factor): 8.72 LPM\n",
      "Step 2 - Adjusted ambient air flow (ventilation_rate - expanded_oxygen_flow): 91.28 LPM\n",
      "Step 3 - Oxygen from ambient air: 19.12 LPM\n",
      "Step 3 - Oxygen from supplemental oxygen: 8.72 LPM\n",
      "Step 3 - Total oxygen in the mix: 27.85 LPM\n",
      "Step 4 - Oxygen fraction (total_oxygen / ventilation_rate): 0.27847\n",
      "Step 5 - PPO2 with supplemental oxygen (altitude_pressure * oxygen_fraction): 97.00 hPa\n",
      "Step 6 - Convert 97.00 hPa to altitude: 19404\n"
     ]
    }
   ],
   "source": [
    "\n",
    "altitude_pressure = 335 + 6.67*(2)  # hPa at 28,000 feet\n",
    "oxygen_flow_rate = 3  # LPM of pure oxygen\n",
    "ventilation_rate = 100  # LPM total ventilation rate\n",
    "expansion_factor = 1013/altitude_pressure  # Expansion factor for oxygen at high altitude\n",
    "\n",
    "ppo2 = calculate_PPO2(altitude_pressure, oxygen_flow_rate, ventilation_rate, expansion_factor)\n",
    "\n",
    "virtual_alt = o2_pressure_to_altitude(ppo2)\n",
    "print(f\"Step 6 - Convert {ppo2:.2f} hPa to altitude: {virtual_alt:.0f}\")"
   ]
  },
  {
   "cell_type": "code",
   "execution_count": 36,
   "id": "033c68f0",
   "metadata": {},
   "outputs": [
    {
     "name": "stdout",
     "output_type": "stream",
     "text": [
      "Step 1 - Expanded oxygen flow (oxygen_flow_rate * expansion_factor): 8.72 LPM\n",
      "Step 2 - Adjusted ambient air flow (ventilation_rate - expanded_oxygen_flow): 141.28 LPM\n",
      "Step 3 - Oxygen from ambient air: 29.60 LPM\n",
      "Step 3 - Oxygen from supplemental oxygen: 8.72 LPM\n",
      "Step 3 - Total oxygen in the mix: 38.32 LPM\n",
      "Step 4 - Oxygen fraction (total_oxygen / ventilation_rate): 0.25548\n",
      "Step 5 - PPO2 with supplemental oxygen (altitude_pressure * oxygen_fraction): 88.99 hPa\n",
      "Step 6 - Convert 88.99 hPa to altitude: 22269\n"
     ]
    }
   ],
   "source": [
    "\n",
    "altitude_pressure = 335 + 6.67*(2)  # hPa at 28,000 feet\n",
    "oxygen_flow_rate = 3  # LPM of pure oxygen\n",
    "ventilation_rate = 150  # LPM total ventilation rate\n",
    "expansion_factor = 1013/altitude_pressure  # Expansion factor for oxygen at high altitude\n",
    "\n",
    "ppo2 = calculate_PPO2(altitude_pressure, oxygen_flow_rate, ventilation_rate, expansion_factor)\n",
    "\n",
    "virtual_alt = o2_pressure_to_altitude(ppo2)\n",
    "print(f\"Step 6 - Convert {ppo2:.2f} hPa to altitude: {virtual_alt:.0f}\")"
   ]
  },
  {
   "cell_type": "code",
   "execution_count": null,
   "id": "fca675c4",
   "metadata": {},
   "outputs": [],
   "source": []
  },
  {
   "cell_type": "code",
   "execution_count": null,
   "id": "a5daf6c3",
   "metadata": {},
   "outputs": [],
   "source": []
  },
  {
   "cell_type": "code",
   "execution_count": null,
   "id": "8e98e131",
   "metadata": {},
   "outputs": [],
   "source": []
  },
  {
   "cell_type": "code",
   "execution_count": null,
   "id": "9cd98677",
   "metadata": {},
   "outputs": [],
   "source": []
  },
  {
   "cell_type": "code",
   "execution_count": null,
   "id": "0c26d611",
   "metadata": {},
   "outputs": [],
   "source": []
  },
  {
   "cell_type": "code",
   "execution_count": null,
   "id": "dc679425",
   "metadata": {},
   "outputs": [],
   "source": []
  },
  {
   "cell_type": "code",
   "execution_count": null,
   "id": "df9ba6d5",
   "metadata": {},
   "outputs": [],
   "source": [
    "# 29000ft"
   ]
  },
  {
   "cell_type": "code",
   "execution_count": 20,
   "id": "0dbfb1e3",
   "metadata": {},
   "outputs": [
    {
     "name": "stdout",
     "output_type": "stream",
     "text": [
      "Step 1 - Expanded oxygen flow (oxygen_flow_rate * expansion_factor): 4.54 LPM\n",
      "Step 2 - Adjusted ambient air flow (ventilation_rate - expanded_oxygen_flow): 35.46 LPM\n",
      "Step 3 - Oxygen from ambient air: 7.43 LPM\n",
      "Step 3 - Oxygen from supplemental oxygen: 4.54 LPM\n",
      "Step 3 - Total oxygen in the mix: 11.97 LPM\n",
      "Step 4 - Oxygen fraction (total_oxygen / ventilation_rate): 0.29914\n",
      "Step 5 - PPO2 with supplemental oxygen (altitude_pressure * oxygen_fraction): 100.21 hPa\n",
      "Step 6 - Convert 100.21 hPa to altitude: 18255\n"
     ]
    }
   ],
   "source": [
    "# Virtual Altutude Summit - descending\n",
    "altitude_pressure = 335   # hPa at 28,000 feet\n",
    "oxygen_flow_rate = 1.5  # LPM of pure oxygen\n",
    "ventilation_rate = 40  # LPM total ventilation rate\n",
    "expansion_factor = 1013/altitude_pressure  # Expansion factor for oxygen at high altitude\n",
    "\n",
    "ppo2 = calculate_PPO2(altitude_pressure, oxygen_flow_rate, ventilation_rate, expansion_factor)\n",
    "\n",
    "virtual_alt = o2_pressure_to_altitude(ppo2)\n",
    "print(f\"Step 6 - Convert {ppo2:.2f} hPa to altitude: {virtual_alt:.0f}\")"
   ]
  },
  {
   "cell_type": "code",
   "execution_count": 22,
   "id": "12810aa5",
   "metadata": {},
   "outputs": [
    {
     "name": "stdout",
     "output_type": "stream",
     "text": [
      "Step 1 - Expanded oxygen flow (oxygen_flow_rate * expansion_factor): 4.54 LPM\n",
      "Step 2 - Adjusted ambient air flow (ventilation_rate - expanded_oxygen_flow): 45.46 LPM\n",
      "Step 3 - Oxygen from ambient air: 9.52 LPM\n",
      "Step 3 - Oxygen from supplemental oxygen: 4.54 LPM\n",
      "Step 3 - Total oxygen in the mix: 14.06 LPM\n",
      "Step 4 - Oxygen fraction (total_oxygen / ventilation_rate): 0.28121\n",
      "Step 5 - PPO2 with supplemental oxygen (altitude_pressure * oxygen_fraction): 94.21 hPa\n",
      "Step 6 - Convert 94.21 hPa to altitude: 20404\n"
     ]
    }
   ],
   "source": [
    "# Virtual Altutude Summit - descending\n",
    "altitude_pressure = 335   # hPa at 28,000 feet\n",
    "oxygen_flow_rate = 1.5  # LPM of pure oxygen\n",
    "ventilation_rate = 50  # LPM total ventilation rate\n",
    "expansion_factor = 1013/altitude_pressure  # Expansion factor for oxygen at high altitude\n",
    "\n",
    "ppo2 = calculate_PPO2(altitude_pressure, oxygen_flow_rate, ventilation_rate, expansion_factor)\n",
    "\n",
    "virtual_alt = o2_pressure_to_altitude(ppo2)\n",
    "print(f\"Step 6 - Convert {ppo2:.2f} hPa to altitude: {virtual_alt:.0f}\")"
   ]
  },
  {
   "cell_type": "code",
   "execution_count": 24,
   "id": "be946ba7",
   "metadata": {},
   "outputs": [
    {
     "name": "stdout",
     "output_type": "stream",
     "text": [
      "Step 1 - Expanded oxygen flow (oxygen_flow_rate * expansion_factor): 6.05 LPM\n",
      "Step 2 - Adjusted ambient air flow (ventilation_rate - expanded_oxygen_flow): 63.95 LPM\n",
      "Step 3 - Oxygen from ambient air: 13.40 LPM\n",
      "Step 3 - Oxygen from supplemental oxygen: 6.05 LPM\n",
      "Step 3 - Total oxygen in the mix: 19.45 LPM\n",
      "Step 4 - Oxygen fraction (total_oxygen / ventilation_rate): 0.27780\n",
      "Step 5 - PPO2 with supplemental oxygen (altitude_pressure * oxygen_fraction): 93.06 hPa\n",
      "Step 6 - Convert 93.06 hPa to altitude: 20813\n"
     ]
    }
   ],
   "source": [
    "# Virtual Altutude at summit -- heavy breathing\n",
    "altitude_pressure = 335   # hPa at 29,000 feet\n",
    "oxygen_flow_rate = 2  # LPM of pure oxygen\n",
    "ventilation_rate = 70  # LPM total ventilation rate\n",
    "expansion_factor = 1013/altitude_pressure  # Expansion factor for oxygen at high altitude\n",
    "\n",
    "ppo2 = calculate_PPO2(altitude_pressure, oxygen_flow_rate, ventilation_rate, expansion_factor)\n",
    "\n",
    "virtual_alt = o2_pressure_to_altitude(ppo2)\n",
    "print(f\"Step 6 - Convert {ppo2:.2f} hPa to altitude: {virtual_alt:.0f}\")"
   ]
  },
  {
   "cell_type": "code",
   "execution_count": 25,
   "id": "681470c8",
   "metadata": {},
   "outputs": [
    {
     "name": "stdout",
     "output_type": "stream",
     "text": [
      "Step 1 - Expanded oxygen flow (oxygen_flow_rate * expansion_factor): 9.07 LPM\n",
      "Step 2 - Adjusted ambient air flow (ventilation_rate - expanded_oxygen_flow): 90.93 LPM\n",
      "Step 3 - Oxygen from ambient air: 19.05 LPM\n",
      "Step 3 - Oxygen from supplemental oxygen: 9.07 LPM\n",
      "Step 3 - Total oxygen in the mix: 28.12 LPM\n",
      "Step 4 - Oxygen fraction (total_oxygen / ventilation_rate): 0.28121\n",
      "Step 5 - PPO2 with supplemental oxygen (altitude_pressure * oxygen_fraction): 94.21 hPa\n",
      "Step 6 - Convert 94.21 hPa to altitude: 20404\n"
     ]
    }
   ],
   "source": [
    "# Virtual Altutude at summit -- heavy breathing\n",
    "altitude_pressure = 335   # hPa at 29,000 feet\n",
    "oxygen_flow_rate = 3  # LPM of pure oxygen\n",
    "ventilation_rate = 100  # LPM total ventilation rate\n",
    "expansion_factor = 1013/altitude_pressure  # Expansion factor for oxygen at high altitude\n",
    "\n",
    "ppo2 = calculate_PPO2(altitude_pressure, oxygen_flow_rate, ventilation_rate, expansion_factor)\n",
    "\n",
    "virtual_alt = o2_pressure_to_altitude(ppo2)\n",
    "print(f\"Step 6 - Convert {ppo2:.2f} hPa to altitude: {virtual_alt:.0f}\")"
   ]
  },
  {
   "cell_type": "code",
   "execution_count": null,
   "id": "42c58e18",
   "metadata": {},
   "outputs": [],
   "source": []
  },
  {
   "cell_type": "code",
   "execution_count": null,
   "id": "c27085d8",
   "metadata": {},
   "outputs": [],
   "source": []
  },
  {
   "cell_type": "code",
   "execution_count": null,
   "id": "e2d4ce65",
   "metadata": {},
   "outputs": [],
   "source": []
  },
  {
   "cell_type": "code",
   "execution_count": null,
   "id": "93689222",
   "metadata": {},
   "outputs": [],
   "source": []
  },
  {
   "cell_type": "code",
   "execution_count": null,
   "id": "e394ef59",
   "metadata": {},
   "outputs": [],
   "source": []
  },
  {
   "cell_type": "code",
   "execution_count": null,
   "id": "879650b8",
   "metadata": {},
   "outputs": [],
   "source": []
  },
  {
   "cell_type": "code",
   "execution_count": null,
   "id": "0c9e7eed",
   "metadata": {},
   "outputs": [],
   "source": []
  },
  {
   "cell_type": "code",
   "execution_count": null,
   "id": "9a9f9cfb",
   "metadata": {},
   "outputs": [],
   "source": []
  }
 ],
 "metadata": {
  "kernelspec": {
   "display_name": "Python [conda env:py310]",
   "language": "python",
   "name": "conda-env-py310-py"
  },
  "language_info": {
   "codemirror_mode": {
    "name": "ipython",
    "version": 3
   },
   "file_extension": ".py",
   "mimetype": "text/x-python",
   "name": "python",
   "nbconvert_exporter": "python",
   "pygments_lexer": "ipython3",
   "version": "3.10.5"
  }
 },
 "nbformat": 4,
 "nbformat_minor": 5
}
