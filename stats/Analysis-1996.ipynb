{
 "cells": [
  {
   "cell_type": "code",
   "execution_count": 2,
   "id": "5e443868",
   "metadata": {},
   "outputs": [],
   "source": [
    "import pandas as pd\n",
    "import numpy as np"
   ]
  },
  {
   "cell_type": "code",
   "execution_count": 3,
   "id": "cb172a1a",
   "metadata": {},
   "outputs": [],
   "source": [
    "df = pd.read_csv('member_export_2023.csv', encoding=\"ISO-8859-1\", low_memory=False)"
   ]
  },
  {
   "cell_type": "markdown",
   "id": "43372d55",
   "metadata": {},
   "source": [
    "Analysis of the following:\n",
    "    \n",
    "    In fact, the murderous outcome of 1996 was in many ways simply business as usual. Although a record number of people died in the spring climbing season on Everest, the 12 fatalities amounted to only 3 percent of the 398 climbers who ascended higher than Base Camp—which is actually slightly below the historical fatality rate of 3.3 percent. Or here’s another way to look at it: between 1921 and May 1996, 144 people died and the peak was climbed some 630 times—a ratio of one in four. Last spring, 12 climbers died and 84 reached the summit—a ratio of one in seven. Compared to these historical standards, 1996 was actually a safer-than-average year.\n",
    "\n",
    "Krakauer, Jon. Into Thin Air (pp. 286-287). Knopf Doubleday Publishing Group. "
   ]
  },
  {
   "cell_type": "code",
   "execution_count": null,
   "id": "bdc75a6e",
   "metadata": {},
   "outputs": [],
   "source": [
    "# nowhere close to 398 climbers in basecamp in 1996."
   ]
  },
  {
   "cell_type": "code",
   "execution_count": 4,
   "id": "06b6c1c9",
   "metadata": {},
   "outputs": [
    {
     "name": "stdout",
     "output_type": "stream",
     "text": [
      "293\n"
     ]
    }
   ],
   "source": [
    "count = df[(df['bconly'] == False) & (df['myear'] == 1996) & (df['mseason'] == 1) ].shape[0]\n",
    "\n",
    "print(count)"
   ]
  },
  {
   "cell_type": "code",
   "execution_count": null,
   "id": "2d4ae950",
   "metadata": {},
   "outputs": [],
   "source": [
    "#Maybe he included all the people in BC, including non-climbers"
   ]
  },
  {
   "cell_type": "code",
   "execution_count": 6,
   "id": "9e1b0dff",
   "metadata": {},
   "outputs": [
    {
     "name": "stdout",
     "output_type": "stream",
     "text": [
      "322\n"
     ]
    }
   ],
   "source": [
    "count = df[ (df['myear'] == 1996) & (df['mseason'] == 1) ].shape[0]\n",
    "\n",
    "print(count)"
   ]
  },
  {
   "cell_type": "code",
   "execution_count": null,
   "id": "6244bebc",
   "metadata": {},
   "outputs": [],
   "source": [
    "# Still not close to his 398.  Maybe he included people from the rest of the year"
   ]
  },
  {
   "cell_type": "code",
   "execution_count": 14,
   "id": "ac67c4ed",
   "metadata": {},
   "outputs": [
    {
     "name": "stdout",
     "output_type": "stream",
     "text": [
      "402\n"
     ]
    }
   ],
   "source": [
    "count = df[ (df['myear'] == 1996)].shape[0]\n",
    "\n",
    "print(count)"
   ]
  },
  {
   "cell_type": "markdown",
   "id": "0c0d5c1e",
   "metadata": {},
   "source": [
    "#### Ok, looks like that is what he did.  402 to 398 would be explained by updates to the Himalayan database\n",
    "But the analysis would be wrong because he didn't include the deaths from the whole year, and including he said he only included people who \"ascended higher than Base Camp.\"  "
   ]
  },
  {
   "cell_type": "code",
   "execution_count": 15,
   "id": "5cfb20d2",
   "metadata": {},
   "outputs": [
    {
     "name": "stdout",
     "output_type": "stream",
     "text": [
      "15\n"
     ]
    }
   ],
   "source": [
    "count_death = df[ (df['myear'] == 1996) & ((df['death'] == True) )].shape[0]\n",
    "print(count_death)"
   ]
  },
  {
   "cell_type": "code",
   "execution_count": 16,
   "id": "fa1968cb",
   "metadata": {},
   "outputs": [
    {
     "data": {
      "text/plain": [
       "3.731343283582089"
      ]
     },
     "execution_count": 16,
     "metadata": {},
     "output_type": "execute_result"
    }
   ],
   "source": [
    "count_death/count * 100"
   ]
  },
  {
   "cell_type": "markdown",
   "id": "de604251",
   "metadata": {},
   "source": [
    "# nowhere close to 3%\n",
    "\n",
    "    Let's get the real number"
   ]
  },
  {
   "cell_type": "code",
   "execution_count": 90,
   "id": "1cc37895",
   "metadata": {},
   "outputs": [
    {
     "name": "stdout",
     "output_type": "stream",
     "text": [
      "293\n",
      "4.1\n"
     ]
    }
   ],
   "source": [
    "count = df[(df['bconly'] == False) & (df['myear'] == 1996) & (df['mseason'] == 1) ].shape[0]\n",
    "\n",
    "print(count)\n",
    "count_death = df[(df['bconly'] == False) & (df['myear'] == 1996) \n",
    "                 & (df['mseason'] == 1)  & (df['death'] == True)  ].shape[0]\n",
    "\n",
    "print(round(count_death/count*100,1))\n"
   ]
  },
  {
   "cell_type": "markdown",
   "id": "d9d3ecf9",
   "metadata": {},
   "source": [
    "## And get the historical average prior to 1996"
   ]
  },
  {
   "cell_type": "code",
   "execution_count": 91,
   "id": "07c419b4",
   "metadata": {},
   "outputs": [
    {
     "name": "stdout",
     "output_type": "stream",
     "text": [
      "4797\n",
      "2.7\n"
     ]
    }
   ],
   "source": [
    "count = df[(df['bconly'] == False) & (df['myear'] < 1996)  ].shape[0]\n",
    "\n",
    "print(count)\n",
    "count_death = df[(df['bconly'] == False) & (df['myear'] < 1996) \n",
    "                 & (df['death'] == True)  ].shape[0]\n",
    "\n",
    "print(round(count_death/count*100,1))"
   ]
  },
  {
   "cell_type": "code",
   "execution_count": null,
   "id": "32a25026",
   "metadata": {},
   "outputs": [],
   "source": [
    "# Krakauer says historical average is 3.3.  Did he maybe include 1996 as well? "
   ]
  },
  {
   "cell_type": "code",
   "execution_count": 30,
   "id": "6f308ab3",
   "metadata": {},
   "outputs": [
    {
     "name": "stdout",
     "output_type": "stream",
     "text": [
      "5164\n",
      "2.8079008520526725\n"
     ]
    }
   ],
   "source": [
    "count = df[(df['bconly'] == False) & (df['myear'] <= 1996)  ].shape[0]\n",
    "\n",
    "print(count)\n",
    "count_death = df[(df['bconly'] == False) & (df['myear'] <= 1996) \n",
    "                 & (df['death'] == True)  ].shape[0]\n",
    "\n",
    "print(count_death/count*100)"
   ]
  },
  {
   "cell_type": "code",
   "execution_count": 28,
   "id": "99d59b1b",
   "metadata": {},
   "outputs": [],
   "source": [
    "# Let's try including the base camp only personel."
   ]
  },
  {
   "cell_type": "code",
   "execution_count": 20,
   "id": "0e460337",
   "metadata": {},
   "outputs": [
    {
     "name": "stdout",
     "output_type": "stream",
     "text": [
      "5639\n",
      "2.748714311048058\n"
     ]
    }
   ],
   "source": [
    "count = df[  (df['myear'] <= 1996)  ].shape[0]\n",
    "\n",
    "print(count)\n",
    "count_death = df[ (df['myear'] <= 1996) \n",
    "                 & (df['death'] == True)  ].shape[0]\n",
    "\n",
    "print(count_death/count*100)"
   ]
  },
  {
   "cell_type": "code",
   "execution_count": null,
   "id": "63c4720a",
   "metadata": {},
   "outputs": [],
   "source": [
    "# Maybe he excluded the really only climbs:"
   ]
  },
  {
   "cell_type": "code",
   "execution_count": 19,
   "id": "fd2856b3",
   "metadata": {},
   "outputs": [
    {
     "name": "stdout",
     "output_type": "stream",
     "text": [
      "5462\n",
      "2.5631636763090446\n"
     ]
    }
   ],
   "source": [
    "count = df[ (df['myear'] > 1950) & (df['myear'] <= 1996)  ].shape[0]\n",
    "\n",
    "print(count)\n",
    "count_death = df[ (df['myear'] > 1953) & (df['myear'] <= 1996) \n",
    "                 & (df['death'] == True)  ].shape[0]\n",
    "\n",
    "print(count_death/count*100)"
   ]
  },
  {
   "cell_type": "code",
   "execution_count": null,
   "id": "f76ab010",
   "metadata": {},
   "outputs": [],
   "source": []
  },
  {
   "cell_type": "code",
   "execution_count": null,
   "id": "2accc572",
   "metadata": {},
   "outputs": [],
   "source": []
  },
  {
   "cell_type": "markdown",
   "id": "edd4e4c5",
   "metadata": {},
   "source": [
    "# Still not close to 3.3 for a historical average.  Data was simply inaccurate."
   ]
  },
  {
   "cell_type": "code",
   "execution_count": null,
   "id": "bc188944",
   "metadata": {},
   "outputs": [],
   "source": []
  },
  {
   "cell_type": "markdown",
   "id": "d9bb91dd",
   "metadata": {},
   "source": [
    "# Let's do the analysis with the accurate data."
   ]
  },
  {
   "cell_type": "markdown",
   "id": "677e8a81",
   "metadata": {},
   "source": [
    "# Turns out 1996 was significantly more deadly than the historical average.\n",
    "Let's break it down by year.\n",
    "\n",
    "Note, for 1996, this included the fall season."
   ]
  },
  {
   "cell_type": "code",
   "execution_count": 48,
   "id": "8efe49b5",
   "metadata": {},
   "outputs": [
    {
     "name": "stdout",
     "output_type": "stream",
     "text": [
      "    year  count_death  count  death_percentage\n",
      "0   1953            0     23          0.000000\n",
      "1   1954            0      0          0.000000\n",
      "2   1955            0      0          0.000000\n",
      "3   1956            0     16          0.000000\n",
      "4   1957            0      0          0.000000\n",
      "5   1958            0      0          0.000000\n",
      "6   1959            0      0          0.000000\n",
      "7   1960            1     40          2.500000\n",
      "8   1961            0      0          0.000000\n",
      "9   1962            1     25          4.000000\n",
      "10  1963            1     25          4.000000\n",
      "11  1964            1      2         50.000000\n",
      "12  1965            0     27          0.000000\n",
      "13  1966            1      3         33.333333\n",
      "14  1967            0      0          0.000000\n",
      "15  1968            0      0          0.000000\n",
      "16  1969            1     30          3.333333\n",
      "17  1970            8     72         11.111111\n",
      "18  1971            1     50          2.000000\n",
      "19  1972            1     36          2.777778\n",
      "20  1973            1    109          0.917431\n",
      "21  1974            6     33         18.181818\n",
      "22  1975            3     77          3.896104\n",
      "23  1976            1     52          1.923077\n",
      "24  1977            0     29          0.000000\n",
      "25  1978            1     54          1.851852\n",
      "26  1979            6     83          7.228916\n",
      "27  1980            4    135          2.962963\n",
      "28  1981            0     74          0.000000\n",
      "29  1982           11    127          8.661417\n",
      "30  1983            3    140          2.142857\n",
      "31  1984            9    194          4.639175\n",
      "32  1985            7    211          3.317536\n",
      "33  1986            5    148          3.378378\n",
      "34  1987            2    198          1.010101\n",
      "35  1988            9    354          2.542373\n",
      "36  1989            8    317          2.523659\n",
      "37  1990            4    243          1.646091\n",
      "38  1991            2    338          0.591716\n",
      "39  1992            6    428          1.401869\n",
      "40  1993            6    350          1.714286\n",
      "41  1994            4    268          1.492537\n",
      "42  1995            3    266          1.127820\n",
      "43  1996           15    367          4.087193\n"
     ]
    }
   ],
   "source": [
    "import pandas as pd\n",
    "\n",
    "\n",
    "results = []\n",
    "\n",
    "for year in range(1953, 1997):\n",
    "    # Filter the DataFrame for the current year\n",
    "    df_year = df[df['myear'] == year]\n",
    "    \n",
    "    # Calculate count_death for the current year\n",
    "    count_death = df_year[(df_year['bconly'] == False) & (df_year['death'] == True)].shape[0]\n",
    "    \n",
    "    # Calculate count for the current year\n",
    "    count = df_year[df_year['bconly'] == False].shape[0]\n",
    "    \n",
    "    # Calculate the percentage of deaths, handling division by zero\n",
    "    if count > 0:\n",
    "        death_percentage = (count_death / count) * 100\n",
    "    else:\n",
    "        death_percentage = 0\n",
    "    \n",
    "    # Append the results to the list\n",
    "    results.append({'year': year, 'count_death': count_death, 'count': count, 'death_percentage': death_percentage})\n",
    "\n",
    "# Convert the results list to a DataFrame\n",
    "results_df = pd.DataFrame(results)\n",
    "\n",
    "# Display the results\n",
    "print(results_df)\n"
   ]
  },
  {
   "cell_type": "markdown",
   "id": "73f40ebb",
   "metadata": {},
   "source": [
    "## You can easily see the \"avalanche\" years.  \n",
    "\n",
    "1970 - 5 deaths from avalanche \n",
    "\n",
    "1974 - 6 deaths from avalanche\n",
    "\n",
    "1979 - 3 deaths from avalanche\n",
    "\n",
    "1982 - 3 deaths from avalanche\n",
    "\n",
    "1984 - 2 deaths from avalanche."
   ]
  },
  {
   "cell_type": "markdown",
   "id": "ffaafc25",
   "metadata": {},
   "source": [
    "# Ruling out years with fewer than 5 climbers, 1996 was the third deadliest year on record once avalanche deaths are removed. \n"
   ]
  },
  {
   "cell_type": "code",
   "execution_count": 47,
   "id": "1d95ed20",
   "metadata": {},
   "outputs": [
    {
     "name": "stdout",
     "output_type": "stream",
     "text": [
      "    year  count_death  count  death_percentage\n",
      "17  1970            3     72          4.166667\n",
      "21  1974            0     33          0.000000\n",
      "26  1979            3     83          3.614458\n",
      "29  1982            8    127          6.299213\n",
      "31  1984            7    194          3.608247\n"
     ]
    },
    {
     "name": "stderr",
     "output_type": "stream",
     "text": [
      "/Users/michaeltracy/opt/anaconda3/lib/python3.7/site-packages/ipykernel_launcher.py:21: SettingWithCopyWarning: \n",
      "A value is trying to be set on a copy of a slice from a DataFrame.\n",
      "Try using .loc[row_indexer,col_indexer] = value instead\n",
      "\n",
      "See the caveats in the documentation: https://pandas.pydata.org/pandas-docs/stable/user_guide/indexing.html#returning-a-view-versus-a-copy\n"
     ]
    }
   ],
   "source": [
    "import pandas as pd\n",
    "\n",
    "# Assuming results_df is your DataFrame containing the data\n",
    "# Create a dictionary of avalanche deaths by year\n",
    "avalanche_deaths = {\n",
    "    1970: 5,\n",
    "    1974: 6,\n",
    "    1979: 3,\n",
    "    1982: 3,\n",
    "    1984: 2\n",
    "}\n",
    "\n",
    "# Adjust the count_death for the avalanche years\n",
    "for year, deaths in avalanche_deaths.items():\n",
    "    results_df.loc[results_df['year'] == year, 'count_death'] -= deaths\n",
    "\n",
    "# Filter to keep only the avalanche years\n",
    "avalanche_years_df = results_df[results_df['year'].isin(avalanche_deaths.keys())]\n",
    "\n",
    "# Recalculate the death_percentage as count_death / count * 100\n",
    "avalanche_years_df['death_percentage'] = (avalanche_years_df['count_death'] / avalanche_years_df['count']) * 100\n",
    "\n",
    "# Display the result\n",
    "print(avalanche_years_df)\n"
   ]
  },
  {
   "cell_type": "code",
   "execution_count": null,
   "id": "6a1b3c16",
   "metadata": {},
   "outputs": [],
   "source": []
  },
  {
   "cell_type": "markdown",
   "id": "560149e3",
   "metadata": {},
   "source": [
    "# Looking at only non-sherpa as the HD data on porters can be off"
   ]
  },
  {
   "cell_type": "code",
   "execution_count": 79,
   "id": "07af338c",
   "metadata": {},
   "outputs": [
    {
     "name": "stdout",
     "output_type": "stream",
     "text": [
      "    year  count_death  count  death_percentage\n",
      "0   1953            0     13          0.000000\n",
      "1   1954            0      0          0.000000\n",
      "2   1955            0      0          0.000000\n",
      "3   1956            0     11          0.000000\n",
      "4   1957            0      0          0.000000\n",
      "5   1958            0      0          0.000000\n",
      "6   1959            0      0          0.000000\n",
      "7   1960            1     40          2.500000\n",
      "8   1961            0      0          0.000000\n",
      "9   1962            0     17          0.000000\n",
      "10  1963            1     17          5.882353\n",
      "11  1964            1      2         50.000000\n",
      "12  1965            0     20          0.000000\n",
      "13  1966            1      3         33.333333\n",
      "14  1967            0      0          0.000000\n",
      "15  1968            0      0          0.000000\n",
      "16  1969            0     29          0.000000\n",
      "17  1970            1     62          1.612903\n",
      "18  1971            1     48          2.083333\n",
      "19  1972            1     32          3.125000\n",
      "20  1973            0    105          0.000000\n",
      "21  1974            1     25          4.000000\n",
      "22  1975            2     74          2.702703\n",
      "23  1976            1     50          2.000000\n",
      "24  1977            0     27          0.000000\n",
      "25  1978            0     48          0.000000\n",
      "26  1979            2     73          2.739726\n",
      "27  1980            3    129          2.325581\n",
      "28  1981            0     65          0.000000\n",
      "29  1982            6    112          5.357143\n",
      "30  1983            2    127          1.574803\n",
      "31  1984            6    179          3.351955\n",
      "32  1985            7    187          3.743316\n",
      "33  1986            2    138          1.449275\n",
      "34  1987            1    189          0.529101\n",
      "35  1988            5    334          1.497006\n",
      "36  1989            6    295          2.033898\n",
      "37  1990            2    217          0.921659\n",
      "38  1991            2    315          0.634921\n",
      "39  1992            3    377          0.795756\n",
      "40  1993            5    285          1.754386\n",
      "41  1994            3    223          1.345291\n",
      "42  1995            0    215          0.000000\n",
      "43  1996           12    304          3.947368\n"
     ]
    }
   ],
   "source": [
    "\n",
    "results = []\n",
    "\n",
    "for year in range(1953, 1997):\n",
    "    # Filter the DataFrame for the current year\n",
    "    df_year = df[df['myear'] == year]\n",
    "    \n",
    "    # Calculate count_death for the current year\n",
    "    count_death = df_year[(df_year['bconly'] == False) \n",
    "                          & (df_year['death'] == True)\n",
    "                         & (df_year['hired'] == False)].shape[0]\n",
    "    \n",
    "    # Calculate count for the current year\n",
    "    count = df_year[(df_year['bconly'] == False) & (df_year['hired'] == False)].shape[0]\n",
    "    \n",
    "    # Calculate the percentage of deaths, handling division by zero\n",
    "    if count > 0:\n",
    "        death_percentage = (count_death / count) * 100\n",
    "    else:\n",
    "        death_percentage = 0\n",
    "    \n",
    "    # Append the results to the list\n",
    "    results.append({'year': year, 'count_death': count_death, 'count': count, 'death_percentage': death_percentage})\n",
    "\n",
    "# Convert the results list to a DataFrame\n",
    "results_df = pd.DataFrame(results)\n",
    "\n",
    "# Display the results\n",
    "print(results_df)\n"
   ]
  },
  {
   "cell_type": "code",
   "execution_count": 84,
   "id": "f5042469",
   "metadata": {},
   "outputs": [
    {
     "data": {
      "image/png": "[encoded data removed]",
      "text/plain": [
       "<Figure size 1000x600 with 1 Axes>"
      ]
     },
     "metadata": {},
     "output_type": "display_data"
    }
   ],
   "source": [
    "results = []\n",
    "\n",
    "for year in range(1970, 1997):\n",
    "    # Filter the DataFrame for the current year\n",
    "    df_year = df[df['myear'] == year]\n",
    "    \n",
    "    # Calculate count_death for the current year\n",
    "    count_death = df_year[(df_year['bconly'] == False) \n",
    "                          & (df_year['death'] == True)\n",
    "                         & (df_year['hired'] == False)].shape[0]\n",
    "    \n",
    "    # Calculate count for the current year\n",
    "    count = df_year[(df_year['bconly'] == False) & (df_year['hired'] == False)].shape[0]\n",
    "    \n",
    "    # Calculate the percentage of deaths, handling division by zero\n",
    "    if count > 0:\n",
    "        death_percentage = (count_death / count) * 100\n",
    "    else:\n",
    "        death_percentage = 0\n",
    "    \n",
    "    # Append the results to the list\n",
    "    results.append({'year': year, 'count_death': count_death, 'count': count, 'death_percentage': death_percentage})\n",
    "\n",
    "# Convert the results list to a DataFrame\n",
    "results_df = pd.DataFrame(results)\n",
    "\n",
    "plt.figure(figsize=(10, 6))\n",
    "plt.plot(results_df['year'], results_df['death_percentage'], marker='o', linestyle='-', color='b')\n",
    "\n",
    "# Adding titles and labels\n",
    "plt.title('Death Percentage by Year (1970-1996)')\n",
    "plt.xlabel('Year')\n",
    "plt.ylabel('Death Percentage')\n",
    "plt.grid(True)\n",
    "\n",
    "# Show the plot\n",
    "plt.show()\n"
   ]
  },
  {
   "cell_type": "code",
   "execution_count": null,
   "id": "188aa667",
   "metadata": {},
   "outputs": [],
   "source": [
    "# 1982 -- Peter Boardman, Joe Tasker, and Marty Hoey all perished."
   ]
  },
  {
   "cell_type": "code",
   "execution_count": null,
   "id": "2cb344e3",
   "metadata": {},
   "outputs": [],
   "source": []
  },
  {
   "cell_type": "markdown",
   "id": "6831a048",
   "metadata": {},
   "source": [
    "# And hisorical average of western climbers"
   ]
  },
  {
   "cell_type": "code",
   "execution_count": 76,
   "id": "0bc9b28d",
   "metadata": {},
   "outputs": [
    {
     "name": "stdout",
     "output_type": "stream",
     "text": [
      "4183\n",
      "1.6734401147501792\n"
     ]
    }
   ],
   "source": [
    "count = df[  (df['myear'] < 1996) & (df['hired'] == False) & (df['bconly'] == False)   ].shape[0]\n",
    "\n",
    "print(count)\n",
    "count_death = df[  (df['myear'] < 1996) \n",
    "                 & (df['hired'] == False) \n",
    "                 & (df['bconly'] == False) \n",
    "                 & (df['death'] == True)].shape[0]\n",
    "\n",
    "print(count_death/count*100)"
   ]
  },
  {
   "cell_type": "code",
   "execution_count": null,
   "id": "0756a4a0",
   "metadata": {},
   "outputs": [],
   "source": [
    "# And just the 1996 spring season. "
   ]
  },
  {
   "cell_type": "code",
   "execution_count": 77,
   "id": "cc9f2e6a",
   "metadata": {},
   "outputs": [
    {
     "name": "stdout",
     "output_type": "stream",
     "text": [
      "248\n",
      "4.435483870967742\n"
     ]
    }
   ],
   "source": [
    "count = df[  (df['myear'] == 1996) & (df['mseason'] == 1) \n",
    "           & (df['hired'] == False) & (df['bconly'] == False)   ].shape[0]\n",
    "\n",
    "print(count)\n",
    "count_death = df[  (df['myear'] == 1996) \n",
    "                 & (df['mseason'] == 1)\n",
    "                 & (df['hired'] == False) \n",
    "                 & (df['bconly'] == False) \n",
    "                 & (df['death'] == True)].shape[0]\n",
    "\n",
    "print(count_death/count*100)"
   ]
  },
  {
   "cell_type": "code",
   "execution_count": null,
   "id": "b223b5c2",
   "metadata": {},
   "outputs": [],
   "source": []
  },
  {
   "cell_type": "code",
   "execution_count": null,
   "id": "75637fe3",
   "metadata": {},
   "outputs": [],
   "source": []
  },
  {
   "cell_type": "code",
   "execution_count": null,
   "id": "987412dd",
   "metadata": {},
   "outputs": [],
   "source": []
  },
  {
   "cell_type": "markdown",
   "id": "c2c089b7",
   "metadata": {},
   "source": [
    "# Summits to Death ratio"
   ]
  },
  {
   "cell_type": "code",
   "execution_count": 35,
   "id": "11ceafc4",
   "metadata": {},
   "outputs": [
    {
     "name": "stdout",
     "output_type": "stream",
     "text": [
      "746\n"
     ]
    }
   ],
   "source": [
    "count = df[ (df['myear'] < 1996) & (df['msuccess'] == True)].shape[0]\n",
    "\n",
    "print(count)"
   ]
  },
  {
   "cell_type": "code",
   "execution_count": 39,
   "id": "e3103751",
   "metadata": {},
   "outputs": [
    {
     "name": "stdout",
     "output_type": "stream",
     "text": [
      "140\n"
     ]
    }
   ],
   "source": [
    "count_death = df[ (df['myear'] < 1996) & ((df['death'] == True) )].shape[0]\n",
    "print(count_death)"
   ]
  },
  {
   "cell_type": "code",
   "execution_count": 40,
   "id": "c59a4207",
   "metadata": {},
   "outputs": [
    {
     "data": {
      "text/plain": [
       "5.328571428571428"
      ]
     },
     "execution_count": 40,
     "metadata": {},
     "output_type": "execute_result"
    }
   ],
   "source": [
    "746/140"
   ]
  },
  {
   "cell_type": "code",
   "execution_count": null,
   "id": "5b325c73",
   "metadata": {},
   "outputs": [],
   "source": [
    "# This data was simply not accurate back in 1996"
   ]
  },
  {
   "cell_type": "code",
   "execution_count": 14,
   "id": "387086ad",
   "metadata": {},
   "outputs": [
    {
     "name": "stdout",
     "output_type": "stream",
     "text": [
      "485\n"
     ]
    }
   ],
   "source": [
    "count = df[ (df['myear'] < 1996) & (df['msuccess'] == True) & (df['mseason'] == 1)].shape[0]\n",
    "\n",
    "print(count)"
   ]
  },
  {
   "cell_type": "code",
   "execution_count": null,
   "id": "52bcdf8c",
   "metadata": {},
   "outputs": [],
   "source": []
  },
  {
   "cell_type": "code",
   "execution_count": null,
   "id": "aa4b034b",
   "metadata": {},
   "outputs": [],
   "source": []
  },
  {
   "cell_type": "code",
   "execution_count": null,
   "id": "8afb1966",
   "metadata": {},
   "outputs": [],
   "source": []
  },
  {
   "cell_type": "code",
   "execution_count": 86,
   "id": "63b23e91",
   "metadata": {},
   "outputs": [
    {
     "name": "stdout",
     "output_type": "stream",
     "text": [
      "    year  count_death  count  death_percentage\n",
      "0   1921            2     11         18.181818\n",
      "1   1922            7     21         33.333333\n",
      "2   1923            0      0          0.000000\n",
      "3   1924            2      9         22.222222\n",
      "4   1925            0      0          0.000000\n",
      "..   ...          ...    ...               ...\n",
      "71  1992            6    428          1.401869\n",
      "72  1993            6    350          1.714286\n",
      "73  1994            4    268          1.492537\n",
      "74  1995            3    266          1.127820\n",
      "75  1996           15    367          4.087193\n",
      "\n",
      "[76 rows x 4 columns]\n"
     ]
    }
   ],
   "source": [
    "\n",
    "\n",
    "results = []\n",
    "\n",
    "for year in range(1921, 1997):\n",
    "    # Filter the DataFrame for the current year\n",
    "    df_year = df[df['myear'] == year]\n",
    "    \n",
    "    # Calculate count_death for the current year\n",
    "    count_death = df_year[(df_year['bconly'] == False) & (df_year['death'] == True)].shape[0]\n",
    "    \n",
    "    # Calculate count for the current year\n",
    "    count = df_year[df_year['bconly'] == False].shape[0]\n",
    "    \n",
    "    # Calculate the percentage of deaths, handling division by zero\n",
    "    if count > 0:\n",
    "        death_percentage = (count_death / count) * 100\n",
    "    else:\n",
    "        death_percentage = 0\n",
    "    \n",
    "    # Append the results to the list\n",
    "    results.append({'year': year, 'count_death': count_death, 'count': count, 'death_percentage': death_percentage})\n",
    "\n",
    "# Convert the results list to a DataFrame\n",
    "results_df = pd.DataFrame(results)\n",
    "\n",
    "# Display the results\n",
    "print(results_df)\n"
   ]
  },
  {
   "cell_type": "code",
   "execution_count": null,
   "id": "5be22a36",
   "metadata": {},
   "outputs": [],
   "source": []
  },
  {
   "cell_type": "markdown",
   "id": "8d768888",
   "metadata": {},
   "source": [
    "# Looking at the summit/death ratio\n"
   ]
  },
  {
   "cell_type": "code",
   "execution_count": 87,
   "id": "abe33e3f",
   "metadata": {},
   "outputs": [
    {
     "name": "stdout",
     "output_type": "stream",
     "text": [
      "    year  count_summit  count_death  summit_ratio\n",
      "0   1953             2            0      0.000000\n",
      "1   1954             0            0      0.000000\n",
      "2   1955             0            0      0.000000\n",
      "3   1956             4            0      0.000000\n",
      "4   1957             0            0      0.000000\n",
      "5   1958             0            0      0.000000\n",
      "6   1959             0            0      0.000000\n",
      "7   1960             3            1      3.000000\n",
      "8   1961             0            0      0.000000\n",
      "9   1962             0            1      0.000000\n",
      "10  1963             6            1      6.000000\n",
      "11  1964             0            1      0.000000\n",
      "12  1965             9            0      0.000000\n",
      "13  1966             0            1      0.000000\n",
      "14  1967             0            0      0.000000\n",
      "15  1968             0            0      0.000000\n",
      "16  1969             0            1      0.000000\n",
      "17  1970             4            8      0.500000\n",
      "18  1971             0            1      0.000000\n",
      "19  1972             0            1      0.000000\n",
      "20  1973            10            1     10.000000\n",
      "21  1974             0            6      0.000000\n",
      "22  1975            15            3      5.000000\n",
      "23  1976             4            1      4.000000\n",
      "24  1977             2            0      0.000000\n",
      "25  1978            25            2     12.500000\n",
      "26  1979            20            6      3.333333\n",
      "27  1980             8            4      2.000000\n",
      "28  1981             5            0      0.000000\n",
      "29  1982            18           11      1.636364\n",
      "30  1983            23            3      7.666667\n",
      "31  1984            16            9      1.777778\n",
      "32  1985            30            7      4.285714\n",
      "33  1986             4            5      0.800000\n",
      "34  1987             2            3      0.666667\n",
      "35  1988            50           10      5.000000\n",
      "36  1989            24            8      3.000000\n",
      "37  1990            72            4     18.000000\n",
      "38  1991            38            2     19.000000\n",
      "39  1992            90            8     11.250000\n",
      "40  1993           129            7     18.428571\n",
      "41  1994            51            5     10.200000\n",
      "42  1995            82            4     20.500000\n",
      "43  1996            98           15      6.533333\n"
     ]
    }
   ],
   "source": [
    "results = []\n",
    "\n",
    "for year in range(1953, 1997):\n",
    "    # Filter the DataFrame for the current year\n",
    "    df_year = df[df['myear'] == year]\n",
    "    \n",
    "    # Calculate count_death for the current year\n",
    "    count_death = df_year[ (df_year['death'] == True)].shape[0]\n",
    "    \n",
    "    # Calculate count for the current year\n",
    "    count_summit = df_year[df_year['msuccess'] == True].shape[0]\n",
    "    \n",
    "    # Calculate the percentage of deaths, handling division by zero\n",
    "    if count_death > 0:\n",
    "        summit_ratio = (count_summit / count_death) \n",
    "    else:\n",
    "        summit_ratio = 0\n",
    "\n",
    "    results.append({'year': year, 'count_summit': count_summit, 'count_death': count_death, 'summit_ratio': summit_ratio})\n",
    "\n",
    "results_df = pd.DataFrame(results)\n",
    "print(results_df)\n"
   ]
  },
  {
   "cell_type": "code",
   "execution_count": null,
   "id": "8ebd585d",
   "metadata": {},
   "outputs": [],
   "source": []
  },
  {
   "cell_type": "markdown",
   "id": "81ad0c2a",
   "metadata": {},
   "source": [
    "# Let's duplicate the data from the 2003 article\n",
    "\n",
    "We analyze data for “climbers” (that is, individuals listed on a climbing permit) sepa-\n",
    "rately from those for locally hired high-altitude porters (hereafter “H-A porters”) because\n",
    "most climbers are trying to summit, whereas many H-A porters are not. Climbers are usually\n",
    "foreigners but are sometimes Nepali or Tibetan. Foreign guides are considered as climbers, as\n",
    "per permit policies. Most H-A porters are Sherpas, but some are from other ethnic groups\n",
    "such as Tamangs, Gurungs, or Tibetans. We include only those climbers and H-A porters who\n",
    "went above base camp. Expeditions with multiple independent teams (several teams on the\n",
    "same summit) were treated as separate expeditions. Our analyses for spring 1980 through\n",
    "autumn 2002 are based on 5,218 climbers, 3,276 H-A porters, and 627 expeditions. We exclude\n",
    "several Chinese expeditions, for which climbers and H-A porters were not distinguished.\n",
    "Many climbers and H-A porters have made repeated attempts on multiple expeditions, but we\n",
    "here treat each attempt as if it were statistically independent. "
   ]
  },
  {
   "cell_type": "code",
   "execution_count": 36,
   "id": "1de3d3a9",
   "metadata": {},
   "outputs": [
    {
     "name": "stdout",
     "output_type": "stream",
     "text": [
      "5270\n"
     ]
    }
   ],
   "source": [
    "count = df[ (df['myear'] >= 1980) & (df['myear'] <= 2002) \n",
    "                 & (df['bconly'] == False) & (df['hired'] == False) ].shape[0]\n",
    "print(count)"
   ]
  },
  {
   "cell_type": "markdown",
   "id": "08875396",
   "metadata": {},
   "source": [
    "This matches closely with the 5218 in the article as they say the article also exluded some unnamed Chinese expeditions.\n",
    "The data in the Himalayan database for total high altitude porter engagement is not accurate and will not be used here.\n",
    "The main problem with HD tracking of H-A porters is that it matches on name, and this causes the different individuals to be identified as the same person.  Krakauer's analysis did not break out climbers vs H-A porters as the 2003 article does.  "
   ]
  },
  {
   "cell_type": "code",
   "execution_count": 51,
   "id": "64a20a59",
   "metadata": {},
   "outputs": [
    {
     "name": "stdout",
     "output_type": "stream",
     "text": [
      "812\n",
      "3195\n"
     ]
    }
   ],
   "source": [
    "count = df[ (df['myear'] >= 1980) & (df['myear'] <= 2002) \n",
    "                 & (df['bconly'] == False) & (df['hired'] == False) & (df['msuccess'] == True) &  (df['mseason'] == 1) ].shape[0]\n",
    "print(count)\n",
    "\n",
    "count = df[ (df['myear'] >= 1980) & (df['myear'] <= 2002) \n",
    "                 & (df['bconly'] == False) & (df['hired'] == False)  &  (df['mseason'] == 1) ].shape[0]\n",
    "print(count)"
   ]
  },
  {
   "cell_type": "markdown",
   "id": "cd22931f",
   "metadata": {},
   "source": [
    "Article lists 25.2% of 3101.  As above, it is not clear which Chinese expeditions were excluded.  We get 25.4%."
   ]
  },
  {
   "cell_type": "code",
   "execution_count": 53,
   "id": "56fe8885",
   "metadata": {},
   "outputs": [
    {
     "data": {
      "text/plain": [
       "0.2541471048513302"
      ]
     },
     "execution_count": 53,
     "metadata": {},
     "output_type": "execute_result"
    }
   ],
   "source": [
    "812/3195"
   ]
  },
  {
   "cell_type": "markdown",
   "id": "bf2cd6e2",
   "metadata": {},
   "source": [
    "Now, let's compare the death rate.  Article has 1.8% (For spring season)"
   ]
  },
  {
   "cell_type": "code",
   "execution_count": 69,
   "id": "f55ece8f",
   "metadata": {},
   "outputs": [
    {
     "name": "stdout",
     "output_type": "stream",
     "text": [
      "57\n",
      "3195\n"
     ]
    }
   ],
   "source": [
    "count = df[ (df['myear'] >= 1980) & (df['myear'] <= 2002) \n",
    "                 & (df['bconly'] == False) & (df['hired'] == False) & (df['death'] == True) &  (df['mseason'] == 1) ].shape[0]\n",
    "print(count)\n",
    "\n",
    "count = df[ (df['myear'] >= 1980) & (df['myear'] <= 2002) \n",
    "                 & (df['bconly'] == False) & (df['hired'] == False)  &  (df['mseason'] == 1) ].shape[0]\n",
    "print(count)"
   ]
  },
  {
   "cell_type": "code",
   "execution_count": 71,
   "id": "11e013b1",
   "metadata": {},
   "outputs": [
    {
     "data": {
      "text/plain": [
       "1.784037558685446"
      ]
     },
     "execution_count": 71,
     "metadata": {},
     "output_type": "execute_result"
    }
   ],
   "source": [
    "57/3195*100"
   ]
  },
  {
   "cell_type": "markdown",
   "id": "e02719dc",
   "metadata": {},
   "source": [
    "Given the agreement on the success rate and death rate between the current HD and the data used in a 2003 article publised in American Alpine Journal, the data, at least for western climber, was fairly stable beginning in 2003."
   ]
  },
  {
   "cell_type": "code",
   "execution_count": null,
   "id": "3e6310a5",
   "metadata": {},
   "outputs": [],
   "source": []
  },
  {
   "cell_type": "code",
   "execution_count": null,
   "id": "44afad8b",
   "metadata": {},
   "outputs": [],
   "source": [
    "Breakdown by year -- spring only"
   ]
  },
  {
   "cell_type": "code",
   "execution_count": 88,
   "id": "9ea9cdc3",
   "metadata": {},
   "outputs": [
    {
     "name": "stdout",
     "output_type": "stream",
     "text": [
      "    year  count_death  count  death_percentage\n",
      "0   1953            0     13          0.000000\n",
      "1   1954            0      0          0.000000\n",
      "2   1955            0      0          0.000000\n",
      "3   1956            0     11          0.000000\n",
      "4   1957            0      0          0.000000\n",
      "5   1958            0      0          0.000000\n",
      "6   1959            0      0          0.000000\n",
      "7   1960            1     40          2.500000\n",
      "8   1961            0      0          0.000000\n",
      "9   1962            0     17          0.000000\n",
      "10  1963            1     17          5.882353\n",
      "11  1964            1      2         50.000000\n",
      "12  1965            0     20          0.000000\n",
      "13  1966            1      3         33.333333\n",
      "14  1967            0      0          0.000000\n",
      "15  1968            0      0          0.000000\n",
      "16  1969            0      5          0.000000\n",
      "17  1970            1     62          1.612903\n",
      "18  1971            1     28          3.571429\n",
      "19  1972            0     21          0.000000\n",
      "20  1973            0     62          0.000000\n",
      "21  1974            0     15          0.000000\n",
      "22  1975            1     52          1.923077\n",
      "23  1976            1     34          2.941176\n",
      "24  1977            0      8          0.000000\n",
      "25  1978            0     17          0.000000\n",
      "26  1979            0     31          0.000000\n",
      "27  1980            1     55          1.818182\n",
      "28  1981            0     31          0.000000\n",
      "29  1982            3     44          6.818182\n",
      "30  1983            0     43          0.000000\n",
      "31  1984            2     76          2.631579\n",
      "32  1985            1     52          1.923077\n",
      "33  1986            0     36          0.000000\n",
      "34  1987            1     79          1.265823\n",
      "35  1988            0    162          0.000000\n",
      "36  1989            6     69          8.695652\n",
      "37  1990            0    100          0.000000\n",
      "38  1991            2    146          1.369863\n",
      "39  1992            3    203          1.477833\n",
      "40  1993            4    189          2.116402\n",
      "41  1994            3    119          2.521008\n",
      "42  1995            0    164          0.000000\n",
      "43  1996           11    248          4.435484\n"
     ]
    }
   ],
   "source": [
    "results = []\n",
    "\n",
    "for year in range(1953, 1997):\n",
    "    # Filter the DataFrame for the current year\n",
    "    df_year = df[df['myear'] == year]\n",
    "    \n",
    "    # Calculate count_death for the current year\n",
    "    count_death = df_year[(df_year['bconly'] == False) \n",
    "                          & (df_year['death'] == True)\n",
    "                         & (df_year['hired'] == False)\n",
    "                         & (df_year['mseason'] == 1)].shape[0]\n",
    "    \n",
    "    # Calculate count for the current year\n",
    "    count = df_year[(df_year['bconly'] == False) \n",
    "                    & (df_year['hired'] == False)\n",
    "                   & (df_year['mseason'] == 1)].shape[0]\n",
    "    \n",
    "    # Calculate the percentage of deaths, handling division by zero\n",
    "    if count > 0:\n",
    "        death_percentage = (count_death / count) * 100\n",
    "    else:\n",
    "        death_percentage = 0\n",
    "    \n",
    "    results.append({'year': year, 'count_death': count_death, 'count': count, 'death_percentage': death_percentage})\n",
    "\n",
    "results_df = pd.DataFrame(results)\n",
    "print(results_df)\n"
   ]
  },
  {
   "cell_type": "markdown",
   "id": "632b0864",
   "metadata": {},
   "source": [
    "Data matches closely with the graphs printed int he article"
   ]
  },
  {
   "cell_type": "code",
   "execution_count": null,
   "id": "ac4d0266",
   "metadata": {},
   "outputs": [],
   "source": []
  }
 ],
 "metadata": {
  "kernelspec": {
   "display_name": "Python 3 (ipykernel)",
   "language": "python",
   "name": "python3"
  },
  "language_info": {
   "codemirror_mode": {
    "name": "ipython",
    "version": 3
   },
   "file_extension": ".py",
   "mimetype": "text/x-python",
   "name": "python",
   "nbconvert_exporter": "python",
   "pygments_lexer": "ipython3",
   "version": "3.7.12"
  }
 },
 "nbformat": 4,
 "nbformat_minor": 5
}
